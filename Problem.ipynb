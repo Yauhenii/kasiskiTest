{
 "cells": [
  {
   "cell_type": "code",
   "execution_count": null,
   "metadata": {},
   "outputs": [],
   "source": [
    "import pandas as pd\n",
    "import numpy as np\n",
    "import matplotlib.pyplot as plt\n",
    "%matplotlib inline"
   ]
  },
  {
   "cell_type": "markdown",
   "metadata": {},
   "source": [
    "# Prepare data"
   ]
  },
  {
   "cell_type": "code",
   "execution_count": null,
   "metadata": {},
   "outputs": [],
   "source": [
    "with open('data/tom_sawyer.txt') as file:\n",
    "    text = file.read()"
   ]
  },
  {
   "cell_type": "code",
   "execution_count": null,
   "metadata": {},
   "outputs": [],
   "source": [
    "text"
   ]
  },
  {
   "cell_type": "code",
   "execution_count": null,
   "metadata": {},
   "outputs": [],
   "source": [
    "text_splited=text.split(' ')\n",
    "len(text_splited)"
   ]
  },
  {
   "cell_type": "code",
   "execution_count": null,
   "metadata": {},
   "outputs": [],
   "source": [
    "key_words=['sun','heat','beast','thinks','predict','payloads','character','unscramble']\n",
    "texts_lens=[100,150,200,250,300,350,400,450]\n",
    "num_texts=10\n",
    "# key_words=['sun','heat']\n",
    "# texts_lens=[200,300]\n",
    "# num_texts=3"
   ]
  },
  {
   "cell_type": "code",
   "execution_count": null,
   "metadata": {},
   "outputs": [],
   "source": [
    "def get_text_part(i, text_len, text_splited):\n",
    "    text_part=''\n",
    "    for j in range(text_len):\n",
    "        text_part+=text_splited[i*text_len+j]\n",
    "        if(j!=text_len-1):\n",
    "            text_part+=' '\n",
    "    return text_part"
   ]
  },
  {
   "cell_type": "code",
   "execution_count": null,
   "metadata": {},
   "outputs": [],
   "source": [
    "texts=[[] for text in range(num_texts)]\n",
    "for i in range(num_texts):\n",
    "    for text_len in texts_lens:\n",
    "        texts[i].append(get_text_part(i,text_len,text_splited))"
   ]
  },
  {
   "cell_type": "markdown",
   "metadata": {},
   "source": [
    "# Test text encryption and decryption"
   ]
  },
  {
   "cell_type": "code",
   "execution_count": null,
   "metadata": {},
   "outputs": [],
   "source": [
    "test_text=texts[1][1]\n",
    "test_key=key_words[1]\n",
    "print(test_key)"
   ]
  },
  {
   "cell_type": "code",
   "execution_count": null,
   "metadata": {},
   "outputs": [],
   "source": [
    "!echo \"{test_text}\" > cache.txt"
   ]
  },
  {
   "cell_type": "code",
   "execution_count": null,
   "metadata": {},
   "outputs": [],
   "source": [
    "test_text_enc=!./encrypt.sh {test_key} cache.txt\n",
    "test_text_enc[0]"
   ]
  },
  {
   "cell_type": "code",
   "execution_count": null,
   "metadata": {},
   "outputs": [],
   "source": [
    "!echo \"{test_text_enc[0]}\" > cache.txt"
   ]
  },
  {
   "cell_type": "code",
   "execution_count": null,
   "metadata": {},
   "outputs": [],
   "source": [
    "test_text_dec=!./decrypt.sh {test_key} cache.txt\n",
    "test_text_dec[0]"
   ]
  },
  {
   "cell_type": "markdown",
   "metadata": {},
   "source": [
    "# Test Kasiski "
   ]
  },
  {
   "cell_type": "code",
   "execution_count": null,
   "metadata": {},
   "outputs": [],
   "source": [
    "test_prob_key_len=get_prob_key_len(test_text_enc[0],3)\n",
    "print(test_prob_key_len)\n",
    "test_key_word=get_prob_key(test_text_enc[0],test_prob_key_len)\n",
    "print(test_key_word)"
   ]
  },
  {
   "cell_type": "markdown",
   "metadata": {},
   "source": [
    "# Encrypt all texts"
   ]
  },
  {
   "cell_type": "code",
   "execution_count": null,
   "metadata": {},
   "outputs": [],
   "source": [
    "%%time\n",
    "enc_texts=[[[] for text_let in texts_lens] for key in key_words]\n",
    "for i in range(len(key_words)):\n",
    "    for j in range(len(texts_lens)):\n",
    "        for k in range(num_texts):\n",
    "            !echo \"{texts[k][j]}\" > cache.txt\n",
    "            enc_text=!./encrypt.sh {key_words[i]} cache.txt\n",
    "            enc_texts[i][j].append(enc_text[0])"
   ]
  },
  {
   "cell_type": "code",
   "execution_count": null,
   "metadata": {},
   "outputs": [],
   "source": [
    "test_key_words_num=5\n",
    "test_len_num=1\n",
    "test_text_num=1"
   ]
  },
  {
   "cell_type": "code",
   "execution_count": null,
   "metadata": {},
   "outputs": [],
   "source": [
    "enc_texts[test_key_words_num][test_len_num][test_text_num]"
   ]
  },
  {
   "cell_type": "markdown",
   "metadata": {},
   "source": [
    "# Test decryptor"
   ]
  },
  {
   "cell_type": "code",
   "execution_count": null,
   "metadata": {},
   "outputs": [],
   "source": [
    "!echo \"{enc_texts[test_key_words_num][test_len_num][test_text_num]}\" > cache.txt"
   ]
  },
  {
   "cell_type": "code",
   "execution_count": null,
   "metadata": {},
   "outputs": [],
   "source": [
    "test_text_dec=!./decrypt.sh {key_words[test_key_words_num]} cache.txt\n",
    "test_text_dec[0]"
   ]
  },
  {
   "cell_type": "markdown",
   "metadata": {},
   "source": [
    "# Perform predictions"
   ]
  },
  {
   "cell_type": "code",
   "execution_count": null,
   "metadata": {},
   "outputs": [],
   "source": [
    "def get_prob_key_len(text, lgram, top=1):\n",
    "    !echo \"{text}\" > cache.txt\n",
    "    res_lst=!python3 kasiski_analyze.py cache.txt {lgram}\n",
    "    if(len(res_lst)!=0):\n",
    "        return res_lst[top-1].split(': ')[0]\n",
    "    else:\n",
    "        return 1"
   ]
  },
  {
   "cell_type": "code",
   "execution_count": null,
   "metadata": {},
   "outputs": [],
   "source": [
    "def get_prob_key(text, prob_key_len):\n",
    "    !echo \"{text}\" > cache.txt\n",
    "    res_lst=!python3 kasiski_attack.py cache.txt {prob_key_len} \n",
    "    return res_lst[0]"
   ]
  },
  {
   "cell_type": "code",
   "execution_count": null,
   "metadata": {},
   "outputs": [],
   "source": [
    "def get_hit_prob(enc_texts,texts_lens,key_words,num_texts, lgram):\n",
    "    prob_key_lens=[[[] for text_let in texts_lens] for key in key_words]\n",
    "    for i in range(len(key_words)):\n",
    "        for j in range(len(texts_lens)):\n",
    "            for k in range(num_texts):\n",
    "                prob_key_lens[i][j].append(get_prob_key_len(enc_texts[i][j][k],lgram))\n",
    "                \n",
    "    prob_key=[[[] for text_let in texts_lens] for key in key_words]\n",
    "    for i in range(len(key_words)):\n",
    "        for j in range(len(texts_lens)):\n",
    "            for k in range(num_texts):\n",
    "                prob_key[i][j].append(get_prob_key(enc_texts[i][j][k],prob_key_lens[i][j][k]))\n",
    "                \n",
    "    hit_key=[[[] for text_let in texts_lens] for key in key_words]\n",
    "    for i in range(len(key_words)):\n",
    "        for j in range(len(texts_lens)):\n",
    "            for k in range(num_texts):\n",
    "                if(key_words[i]==prob_key[i][j][k]):\n",
    "                    hit_key[i][j].append(1)\n",
    "                else:\n",
    "                    hit_key[i][j].append(0)\n",
    "                    \n",
    "    hit_prob=[[0 for text_let in texts_lens] for key in key_words]\n",
    "    for i in range(len(key_words)):\n",
    "        for j in range(len(texts_lens)):\n",
    "            for k in range(num_texts):\n",
    "                hit_prob[i][j]+=hit_key[i][j][k]\n",
    "                \n",
    "    for i in range(len(key_words)):\n",
    "        for j in range(len(texts_lens)):\n",
    "            hit_prob[i][j]=hit_prob[i][j]/10\n",
    "    return hit_prob"
   ]
  },
  {
   "cell_type": "markdown",
   "metadata": {},
   "source": [
    "## Use bigrams"
   ]
  },
  {
   "cell_type": "markdown",
   "metadata": {},
   "source": [
    "### Analyze and Attack"
   ]
  },
  {
   "cell_type": "code",
   "execution_count": null,
   "metadata": {},
   "outputs": [],
   "source": [
    "%%time\n",
    "hit_prob_bi=get_hit_prob(enc_texts,texts_lens,key_words,num_texts, 2)"
   ]
  },
  {
   "cell_type": "code",
   "execution_count": null,
   "metadata": {},
   "outputs": [],
   "source": [
    "fig = plt.figure()\n",
    "ax = fig.add_subplot(111)\n",
    "cax = ax.matshow(hit_prob_bi, interpolation='nearest')\n",
    "fig.colorbar(cax)\n",
    "\n",
    "ax.set_yticklabels(['']+[len(key_word) for key_word in key_words])\n",
    "ax.set_xticklabels(['']+[text_len for text_len in texts_lens])\n",
    "plt.show()\n",
    "hit_prob_bi"
   ]
  },
  {
   "cell_type": "markdown",
   "metadata": {},
   "source": [
    "## Use trigrams"
   ]
  },
  {
   "cell_type": "markdown",
   "metadata": {},
   "source": [
    "### Analyze and Attack"
   ]
  },
  {
   "cell_type": "code",
   "execution_count": null,
   "metadata": {},
   "outputs": [],
   "source": [
    "%%time\n",
    "hit_prob_tri=get_hit_prob(enc_texts,texts_lens,key_words,num_texts, 3)"
   ]
  },
  {
   "cell_type": "code",
   "execution_count": null,
   "metadata": {},
   "outputs": [],
   "source": [
    "fig = plt.figure()\n",
    "ax = fig.add_subplot(111)\n",
    "cax = ax.matshow(hit_prob_tri, interpolation='nearest')\n",
    "fig.colorbar(cax)\n",
    "\n",
    "ax.set_yticklabels(['']+[len(key_word) for key_word in key_words])\n",
    "ax.set_xticklabels(['']+[text_len for text_len in texts_lens])\n",
    "plt.show()"
   ]
  },
  {
   "cell_type": "markdown",
   "metadata": {},
   "source": [
    "## Use fourgrams"
   ]
  },
  {
   "cell_type": "markdown",
   "metadata": {},
   "source": [
    "### Analyze and Attack"
   ]
  },
  {
   "cell_type": "code",
   "execution_count": null,
   "metadata": {},
   "outputs": [],
   "source": [
    "np_enc_texts=np.asarray(enc_texts)\n",
    "sub_enc_texts=np_enc_texts[3:7,3:7,:2].tolist()\n",
    "sub_text_lens=texts_lens[3:7]\n",
    "sub_key_words=key_words[3:7]\n",
    "sub_num_texts=2"
   ]
  },
  {
   "cell_type": "code",
   "execution_count": null,
   "metadata": {},
   "outputs": [],
   "source": [
    "%%time\n",
    "hit_prob_four=get_hit_prob(sub_enc_texts,sub_text_lens,sub_key_words,sub_num_texts, 4)"
   ]
  },
  {
   "cell_type": "code",
   "execution_count": null,
   "metadata": {},
   "outputs": [],
   "source": [
    "fig = plt.figure()\n",
    "ax = fig.add_subplot(111)\n",
    "cax = ax.matshow(hit_prob_four, interpolation='nearest')\n",
    "fig.colorbar(cax)\n",
    "\n",
    "ax.set_yticklabels(['']+[len(key_word) for key_word in sub_key_words])\n",
    "ax.set_xticklabels(['']+[text_len for text_len in sub_text_lens])\n",
    "plt.show()"
   ]
  },
  {
   "cell_type": "code",
   "execution_count": null,
   "metadata": {},
   "outputs": [],
   "source": [
    "np_enc_texts=np.asarray(enc_texts)\n",
    "sub_enc_texts=np_enc_texts[1:3,3:7,:2].tolist()\n",
    "sub_text_lens=texts_lens[3:7]\n",
    "sub_key_words=key_words[1:3]\n",
    "sub_num_texts=2"
   ]
  },
  {
   "cell_type": "code",
   "execution_count": null,
   "metadata": {},
   "outputs": [],
   "source": [
    "%%time\n",
    "hit_prob_four_2=get_hit_prob(sub_enc_texts,sub_text_lens,sub_key_words,sub_num_texts, 4)"
   ]
  },
  {
   "cell_type": "code",
   "execution_count": null,
   "metadata": {},
   "outputs": [],
   "source": [
    "fig = plt.figure()\n",
    "ax = fig.add_subplot(111)\n",
    "cax = ax.matshow(hit_prob_four_2, interpolation='nearest')\n",
    "fig.colorbar(cax)\n",
    "\n",
    "ax.set_yticklabels(['']+[len(key_word) for key_word in sub_key_words])\n",
    "ax.set_xticklabels(['']+[text_len for text_len in sub_text_lens])\n",
    "plt.show()"
   ]
  },
  {
   "cell_type": "markdown",
   "metadata": {},
   "source": [
    "## Use fivegrams"
   ]
  },
  {
   "cell_type": "markdown",
   "metadata": {},
   "source": [
    "### Analyze and Attack"
   ]
  },
  {
   "cell_type": "code",
   "execution_count": null,
   "metadata": {},
   "outputs": [],
   "source": [
    "np_enc_texts=np.asarray(enc_texts)\n",
    "sub_enc_texts=np_enc_texts[3:7,3:7,:2].tolist()\n",
    "sub_text_lens=texts_lens[3:7]\n",
    "sub_key_words=key_words[3:7]\n",
    "sub_num_texts=2"
   ]
  },
  {
   "cell_type": "code",
   "execution_count": null,
   "metadata": {},
   "outputs": [],
   "source": [
    "# plt.contourf([text_len for text_len in texts_lens],[len(key_word) for key_word in key_words],hit_prob_bi,\n",
    "#              levels=[i/10 for i in range(11)],corner_mask=False)\n",
    "# plt.colorbar()\n",
    "# plt.grid(True,color='white')"
   ]
  },
  {
   "cell_type": "code",
   "execution_count": null,
   "metadata": {},
   "outputs": [],
   "source": [
    "%%time\n",
    "hit_prob_five=get_hit_prob(sub_enc_texts,sub_text_lens,sub_key_words,sub_num_texts, 5)"
   ]
  },
  {
   "cell_type": "code",
   "execution_count": null,
   "metadata": {},
   "outputs": [],
   "source": [
    "fig = plt.figure()\n",
    "ax = fig.add_subplot(111)\n",
    "cax = ax.matshow(hit_prob_five, interpolation='nearest')\n",
    "fig.colorbar(cax)\n",
    "\n",
    "ax.set_yticklabels(['']+[len(key_word) for key_word in sub_key_words])\n",
    "ax.set_xticklabels(['']+[text_len for text_len in sub_text_lens])\n",
    "plt.show()"
   ]
  },
  {
   "cell_type": "code",
   "execution_count": null,
   "metadata": {},
   "outputs": [],
   "source": []
  }
 ],
 "metadata": {
  "kernelspec": {
   "display_name": "Python 3",
   "language": "python",
   "name": "python3"
  },
  "language_info": {
   "codemirror_mode": {
    "name": "ipython",
    "version": 3
   },
   "file_extension": ".py",
   "mimetype": "text/x-python",
   "name": "python",
   "nbconvert_exporter": "python",
   "pygments_lexer": "ipython3",
   "version": "3.6.4"
  }
 },
 "nbformat": 4,
 "nbformat_minor": 4
}
